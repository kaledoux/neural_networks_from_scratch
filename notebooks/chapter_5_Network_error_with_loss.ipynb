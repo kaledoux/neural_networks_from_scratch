{
 "cells": [
  {
   "cell_type": "code",
   "execution_count": 10,
   "id": "848a6313",
   "metadata": {},
   "outputs": [],
   "source": [
    "import numpy as np\n",
    "import nnfs\n",
    "import math"
   ]
  },
  {
   "cell_type": "code",
   "execution_count": 11,
   "id": "c49e1cb0",
   "metadata": {},
   "outputs": [
    {
     "name": "stdout",
     "output_type": "stream",
     "text": [
      "0.35667494393873245\n",
      "0.35667494393873245\n",
      "0.0\n",
      "-0.05129329438755058\n",
      "-0.10536051565782628\n",
      "-0.2876820724517809\n",
      "-0.4307829160924542\n",
      "-0.6931471805599453\n",
      "-1.3862943611198906\n",
      "0.7\n",
      "0.5\n",
      "0.9\n"
     ]
    }
   ],
   "source": [
    "# the *loss function* is the algorithm that quantifies how 'wrong' a model is \n",
    "# *loss* is the measure of this metric\n",
    "\n",
    "# Categorical cross-entropy - used to compare a 'ground truth' probability (y) and some predicted distribution (y hat)\n",
    "# most commonly used loss functions with softmax-activation for output\n",
    "\n",
    "# For a 3 class system:\n",
    "# -(intended_distribution_index_i * log(actual_distribution_index_i) + \n",
    "# intended_distribution_index_j * log(actual_distribution_index_j) +\n",
    "# intended_distribution_index_k * log(actual_distribution_index_k)\n",
    "# )\n",
    "\n",
    "# the zero classes end up zeroing out (there should be 0 actual distribution if we are classifying), so it reduces to:\n",
    "# -(intended_distribution_index_i * log(actual_distribution_index_i))\n",
    "\n",
    "# we expect that the classes should be distributed favorably here\n",
    "intended_class_distribution = [1, 0, 0]\n",
    "softmax_output = [0.7, 0.2, 0.1]\n",
    "categorical_cross_entropy = -(intended_class_distribution[0] * np.log(softmax_output[0]))\n",
    "print(categorical_cross_entropy)\n",
    "\n",
    "# we can reduce this further, since the indended is 1, and 1* num => num\n",
    "categorical_cross_entropy = -np.log(softmax_output[0])\n",
    "print(categorical_cross_entropy)\n",
    "\n",
    "# The CCEL outputs a larger loss, the lower the confidence is:\n",
    "print(np.log(1))\n",
    "print(np.log(0.95))\n",
    "print(np.log(0.9))\n",
    "print(np.log(0.75))\n",
    "print(np.log(0.65))\n",
    "print(np.log(0.50))\n",
    "print(np.log(0.25))\n",
    "\n",
    "\n"
   ]
  },
  {
   "cell_type": "code",
   "execution_count": 17,
   "id": "1d13dea4",
   "metadata": {},
   "outputs": [
    {
     "name": "stdout",
     "output_type": "stream",
     "text": [
      "0.7\n",
      "0.5\n",
      "0.9\n"
     ]
    }
   ],
   "source": [
    "# how do we map intended classes?\n",
    "# let's say for our given 3 class example, we are categorizing each possible class output (index of output set) \n",
    "# as a different class [human, cat, dog] \n",
    "# so when the model generates an output set of [0.9, 0.05, 0.05] it is very confident the input was a 'human'\n",
    "# we can put this together into a 'class_targets' array that models the intended classes for each input\n",
    "class_targets = [0, 1, 1] # human, cat, cat\n",
    "\n",
    "\n",
    "softmax_outputs = np.array([\n",
    "    [0.7, 0.2, 0.1],\n",
    "    [0.1, 0.5, 0.4],\n",
    "    [0.02, 0.9, 0.08]\n",
    "])\n",
    "\n",
    "# then we could crudely iterate through and grab each intended vs predicted\n",
    "for target_index, output in zip(class_targets, softmax_outputs):\n",
    "    print(output[target_index])"
   ]
  },
  {
   "cell_type": "code",
   "execution_count": 20,
   "id": "19af2e51",
   "metadata": {},
   "outputs": [
    {
     "name": "stdout",
     "output_type": "stream",
     "text": [
      "[0.7 0.5 0.9]\n",
      "[0.35667494 0.69314718 0.10536052]\n"
     ]
    }
   ],
   "source": [
    "#now we can use some indexing magic to get a list of confidences at the target indices for each sample:\n",
    "print(softmax_outputs[range(len(softmax_outputs)), class_targets])\n",
    "\n",
    "# then take the - log to get the CCEL\n",
    "print(-np.log(softmax_outputs[range(len(softmax_outputs)), class_targets]))\n"
   ]
  },
  {
   "cell_type": "code",
   "execution_count": 22,
   "id": "459bbb7a",
   "metadata": {},
   "outputs": [
    {
     "name": "stdout",
     "output_type": "stream",
     "text": [
      "0.38506088005216804\n"
     ]
    }
   ],
   "source": [
    "# we can calculate the average loss per batch:\n",
    "loss = -np.log(softmax_outputs[range(len(softmax_outputs)), class_targets])\n",
    "print(np.mean(loss))"
   ]
  },
  {
   "cell_type": "code",
   "execution_count": 24,
   "id": "f1fea018",
   "metadata": {},
   "outputs": [
    {
     "name": "stdout",
     "output_type": "stream",
     "text": [
      "0.38506088005216804\n"
     ]
    }
   ],
   "source": [
    "# now we need to consider how to handle one-hot encoded classes\n",
    "softmax_outputs = np.array([\n",
    "    [0.7, 0.2, 0.1],\n",
    "    [0.1, 0.5, 0.4],\n",
    "    [0.02, 0.9, 0.08]\n",
    "])\n",
    "class_targets = np.array([\n",
    "    [1, 0, 0],\n",
    "    [0, 1, 0],\n",
    "    [0, 1, 0]\n",
    "])\n",
    "\n",
    "if len(class_targets.shape) == 1:\n",
    "    correct_confidences = softmax_outputs[\n",
    "        range(len(softmax_outputs)), class_targets\n",
    "    ]\n",
    "elif len(class_targets.shape) == 2:\n",
    "    correct_confidences = np.sum(\n",
    "    softmax_outputs * class_targets, axis=1)\n",
    "    \n",
    "neg_log = -np.log(correct_confidences)\n",
    "\n",
    "average_loss = np.mean(neg_log)\n",
    "print(average_loss)"
   ]
  },
  {
   "cell_type": "code",
   "execution_count": 27,
   "id": "b8005edf",
   "metadata": {},
   "outputs": [
    {
     "name": "stdout",
     "output_type": "stream",
     "text": [
      "0.38506088005216804\n"
     ]
    }
   ],
   "source": [
    "# Loss and CCEL classes:\n",
    "class Loss:\n",
    "    def calculate(self, output, y):\n",
    "        sample_losses = self.forward(output, y)\n",
    "        data_loss = np.mean(sample_losses)\n",
    "        return data_loss\n",
    "    \n",
    "class Loss_CategoricalCrossEntropy(Loss):\n",
    "    def forward(self, y_pred, y_true):\n",
    "        samples = len(y_pred)\n",
    "        y_pred_clipped = np.clip(y_pred, 1e-7, 1 - 1e-7)\n",
    "        if len(y_true.shape) == 1:\n",
    "            correct_confidences = y_pred_clipped[\n",
    "                range(samples), y_true\n",
    "            ]\n",
    "        elif len(y_true.shape) == 2:\n",
    "            correct_confidences = np.sum(\n",
    "            y_pred_clipped * y_true, axis=1)\n",
    "            \n",
    "        negative_loss_likelihoods = -np.log(correct_confidences)\n",
    "        return negative_loss_likelihoods\n",
    "    \n",
    "\n",
    "loss_function = Loss_CategoricalCrossEntropy()\n",
    "loss = loss_function.calculate(softmax_outputs, class_targets)\n",
    "print(loss)\n",
    "        \n",
    "        \n",
    "        "
   ]
  },
  {
   "cell_type": "code",
   "execution_count": null,
   "id": "bcec8201",
   "metadata": {},
   "outputs": [],
   "source": []
  }
 ],
 "metadata": {
  "kernelspec": {
   "display_name": "Python 3 (ipykernel)",
   "language": "python",
   "name": "python3"
  },
  "language_info": {
   "codemirror_mode": {
    "name": "ipython",
    "version": 3
   },
   "file_extension": ".py",
   "mimetype": "text/x-python",
   "name": "python",
   "nbconvert_exporter": "python",
   "pygments_lexer": "ipython3",
   "version": "3.7.9"
  }
 },
 "nbformat": 4,
 "nbformat_minor": 5
}
