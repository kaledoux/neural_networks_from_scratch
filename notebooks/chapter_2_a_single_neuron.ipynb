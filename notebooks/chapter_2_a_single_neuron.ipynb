{
 "cells": [
  {
   "cell_type": "code",
   "execution_count": 3,
   "id": "675f1f31-9912-46d0-97c5-0863cec6ca4a",
   "metadata": {},
   "outputs": [
    {
     "name": "stdout",
     "output_type": "stream",
     "text": [
      "2.3\n"
     ]
    }
   ],
   "source": [
    "# a single neuron with 3 inputs and related weights + bias\n",
    "inputs = [1,2,3]\n",
    "weights = [0.2,0.8,-0.5]\n",
    "bias = 2\n",
    "result = (inputs[0]*weights[0] + inputs[1]*weights[1] + inputs[2]*weights[2] + bias)\n",
    "print(result)"
   ]
  },
  {
   "cell_type": "code",
   "execution_count": 4,
   "id": "8a09f64b-b3eb-4249-9f6b-4dc2b9310dd6",
   "metadata": {},
   "outputs": [
    {
     "name": "stdout",
     "output_type": "stream",
     "text": [
      "4.8\n"
     ]
    }
   ],
   "source": [
    "# a single neuron with 4 inputs and related weights + bias\n",
    "inputs = [1,2,3,2.5]\n",
    "weights = [0.2,0.8,-0.5,1.0]\n",
    "# note that you need to have a weight for each input!\n",
    "bias = 2\n",
    "result = (inputs[0]*weights[0] + inputs[1]*weights[1] + inputs[2]*weights[2] + inputs[3]*weights[3] + bias)\n",
    "print(result)"
   ]
  },
  {
   "cell_type": "code",
   "execution_count": 5,
   "id": "066b4863-30de-4b54-893c-4177abdfb39e",
   "metadata": {},
   "outputs": [
    {
     "name": "stdout",
     "output_type": "stream",
     "text": [
      "[4.8, 1.21, 2.385]\n"
     ]
    }
   ],
   "source": [
    "# now we add two more neurons to our layer\n",
    "# they all take the same inputs, but the weights and bias varies (this is what makes the outputs vary)\n",
    "inputs = [1,2,3,2.5]\n",
    "\n",
    "weights1 = [0.2,0.8,-0.5,1.0]\n",
    "bias1 = 2\n",
    "weights2 = [0.5, -0.91, 0.26, -0.5]\n",
    "bias2 = 3\n",
    "weights3 = [-0.26, -0.27, 0.17, 0.87]\n",
    "bias3 = 0.5\n",
    "\n",
    "outputs = [\n",
    "    (inputs[0]*weights1[0] + inputs[1]*weights1[1] + inputs[2]*weights1[2] + inputs[3]*weights1[3] + bias1),\n",
    "    (inputs[0]*weights2[0] + inputs[1]*weights2[1] + inputs[2]*weights2[2] + inputs[3]*weights2[3] + bias2),\n",
    "    (inputs[0]*weights3[0] + inputs[1]*weights3[1] + inputs[2]*weights3[2] + inputs[3]*weights3[3] + bias3)\n",
    "]\n",
    "\n",
    "print(outputs)\n",
    "\n",
    "#Each neuron is “connected” to the same inputs. \n",
    "#The difference is in the separate weights and bias that each neuron applies to the input. \n",
    "#This is called a fully connected neural network — \n",
    "# every neuron in the current layer has connections to every neuron from the previous layer."
   ]
  },
  {
   "cell_type": "code",
   "execution_count": 28,
   "id": "fdff5c59-11b2-4efb-9b65-a700889a8c2a",
   "metadata": {},
   "outputs": [
    {
     "name": "stdout",
     "output_type": "stream",
     "text": [
      "[4.8, 1.21, 2.385]\n"
     ]
    }
   ],
   "source": [
    "# it gets impracticle to keep manually referencing \n",
    "# loop it:\n",
    "inputs = [1,2,3,2.5]\n",
    "weights = [\n",
    "    [0.2,0.8,-0.5,1.0],\n",
    "    [0.5, -0.91, 0.26, -0.5],\n",
    "    [-0.26, -0.27, 0.17, 0.87]   \n",
    "]\n",
    "biases = [2,3,0.5]\n",
    "\n",
    "# for each pair of weights and bias, iterate through the inputs array and multiply the n value in inputs by the n value in weights\n",
    "outputs = []\n",
    "\n",
    "for weight_array, bias in zip(weights, biases):\n",
    "    neuron_output = 0\n",
    "    for n_input, weight in zip(inputs, weight_array):\n",
    "        neuron_output += (n_input * weight)\n",
    "    neuron_output += bias        \n",
    "    outputs.append(neuron_output)\n",
    "\n",
    "print(outputs)"
   ]
  },
  {
   "cell_type": "code",
   "execution_count": 1,
   "id": "98b59057-0b23-450a-b2e2-951a3583106e",
   "metadata": {},
   "outputs": [],
   "source": [
    "# Vectors, Tensors, and Arrays\n",
    "# A list of lists is homologous if each list along a dimension is identically long, \n",
    "# and this must be true for each dimension.\n",
    "# A tensor object is an object that can be represented as an array"
   ]
  },
  {
   "cell_type": "code",
   "execution_count": 5,
   "id": "e7884071-b1c2-4a2c-a71e-fdf34c6cee5b",
   "metadata": {},
   "outputs": [
    {
     "name": "stdout",
     "output_type": "stream",
     "text": [
      "20\n",
      "20\n",
      "[3, 5, 7]\n"
     ]
    }
   ],
   "source": [
    "# Vector addition and dot product\n",
    "# When multiplying vectors, you either perform a dot product or a cross product. \n",
    "# A cross product results in a vector while a dot product results in a scalar (a single value/number).\n",
    "\n",
    "# A dot product of two vectors is a sum of products of consecutive vector elements. \n",
    "# Both vectors must be of the same size (have an equal number of elements).\n",
    "\n",
    "# given two vectors, we can manually find the dot product of those vectors\n",
    "a = [1, 2, 3]\n",
    "b = [2, 3, 4]\n",
    "\n",
    "dot = a[0]*b[0] + a[1]*b[1] + a[2]*b[2]\n",
    "print(dot)\n",
    "\n",
    "# now what happens when we think about our two arrays as `inputs` and `weights`?\n",
    "# this makes it very clear that a dot product is exactly what we need when calculating the output of a neuron\n",
    "inputs = [1, 2, 3]\n",
    "weights = [2, 3, 4]\n",
    "\n",
    "dot = inputs[0]*weights[0] + inputs[1]*weights[1] + inputs[2]*weights[2]\n",
    "print(dot)\n",
    "\n",
    "# vector addition is a similarly simple exercise where the sum of the two vectors is calculated element by element:\n",
    "print([a[0]+b[0], a[1]+b[1], a[2]+b[2]])"
   ]
  },
  {
   "cell_type": "code",
   "execution_count": 5,
   "id": "fe3c8be4-47c2-480a-85a4-f5f965d0ed4d",
   "metadata": {},
   "outputs": [
    {
     "name": "stdout",
     "output_type": "stream",
     "text": [
      "4.8\n"
     ]
    }
   ],
   "source": [
    "# A single Neuron with NumPy\n",
    "import numpy as np\n",
    "\n",
    "inputs = [1.0, 2.0, 3.0, 2.5]\n",
    "weights = [0.2, 0.8, -0.5, 1.0]\n",
    "bias = 2.0\n",
    "\n",
    "outputs = np.dot(inputs, weights) + bias\n",
    "\n",
    "print(outputs)"
   ]
  },
  {
   "cell_type": "code",
   "execution_count": 6,
   "id": "76ac7522-a563-479d-a7ac-ecbc14cd4aa6",
   "metadata": {},
   "outputs": [
    {
     "name": "stdout",
     "output_type": "stream",
     "text": [
      "Outputs without biases added: #[ 2.8   -1.79   1.885]\n",
      "Final outputs with biases: #[4.8   1.21  2.385]\n"
     ]
    }
   ],
   "source": [
    "# A Layer of Neurons with NumPy\n",
    "\n",
    "# we still start with the same number of inputs; remember that each input is fed into each neuron\n",
    "inputs = [1.0, 2.0, 3.0, 2.5]\n",
    "\n",
    "# now we create a matrix containing the weights required for multiple neurons\n",
    "# so in this context, each nested list of the matrix represents the weights to distinguish the output for a separate neuron\n",
    "weights = [\n",
    "    [0.2, 0.8, -0.5, 1],\n",
    "    [0.5, -0.91, 0.26, -0.5],\n",
    "    [-0.26, -0.27, 0.17, 0.87]\n",
    "]\n",
    "\n",
    "# remember we also need a bias for each neuron, so we set one for each\n",
    "biases = [2.0, 3.0, 0.5]\n",
    "\n",
    "layer_outputs_wo_biases = np.dot(weights, inputs)\n",
    "print(f'Outputs without biases added: #{layer_outputs_wo_biases}')\n",
    "# this process is basically equivalent to:\n",
    "# manual = [np.dot(weights[0], inputs), np.dot(weights[1], inputs), np.dot(weights[2], inputs)]\n",
    "\n",
    "layer_outputs =  layer_outputs_wo_biases + biases\n",
    "print(f'Final outputs with biases: #{layer_outputs}')\n",
    "\n",
    "# you would likely want to condense this into a single operation, as we can perform matrix addition simply\n",
    "# layer_outputs = np.dot(inputs, weights) + biases\n",
    "\n",
    "# This syntax involving the dot product of weights and inputs followed by the vector addition of bias \n",
    "# is the most commonly used way to represent this calculation of inputs·weights+bias.\n",
    "\n",
    "# To explain the order of parameters we are passing into np\bdot(), \n",
    "# we should think of it as whatever comes first will decide the output shape.\n",
    "# That is why we need to pass weights before inputs\n",
    "# np.dot(inputs, weights) will raise an error : ValueError: shapes (4,) and (3,4) not aligned: 4 (dim 0) != 3 (dim 0)"
   ]
  },
  {
   "cell_type": "code",
   "execution_count": 7,
   "id": "9e890309-05a7-46db-a73c-fc11fbdc21f5",
   "metadata": {},
   "outputs": [],
   "source": [
    "# a batch of data\n",
    "# Neural networks most commonly receive input data for training in batches, whereas we have just used a single observation\n",
    "\n",
    "# Each of these values is a feature observation datum, and together they form a feature set instance, \n",
    "# also called an observation, or most commonly, a sample.\n",
    "# feature set instance => observation => a sample\n",
    "\n",
    "# Why train with many samples?\n",
    "# 1. Faster to train in parallel processing\n",
    "# 2. Fitting or training in batches gives you a higher chance of making more meaningful changes to weights and biases."
   ]
  },
  {
   "cell_type": "code",
   "execution_count": 8,
   "id": "d88a50bb-3d07-4e12-89ed-878f406fa067",
   "metadata": {},
   "outputs": [
    {
     "data": {
      "text/plain": [
       "array([[14, 17, 19],\n",
       "       [19, 25, 29],\n",
       "       [24, 33, 39]])"
      ]
     },
     "execution_count": 8,
     "metadata": {},
     "output_type": "execute_result"
    }
   ],
   "source": [
    "# Matrix Product\n",
    "#The matrix product is an operation in which we have 2 matrices, \n",
    "# and we are performing dot products of all combinations of rows from the first matrix and the columns of the 2nd matrix, \n",
    "# resulting in a matrix of those atomic dot products:\n",
    "\n",
    "weights = [0.36, 0.17, 0.96, 0.12]\n",
    "inputs = [0.77, 0.09, 0.12, 0.81]\n",
    "np.dot(weights, inputs)\n",
    "\n",
    "# When performing matrix multiplication the shapes have to follow a pattern:\n",
    "# the second dimension of the shape of the first array ## shape(3,7) ##\n",
    "# must match the first dimension of the shape of the second array ## shape(7, 5) ##\n",
    "\n",
    "# shape(3,7)\n",
    "first = [\n",
    "    [1,2,3,4,5,6,7],\n",
    "    [1.2,2.3,3.4,4.5,5.6,6.7,7],\n",
    "    [10,11,12,13,14,15,16]\n",
    "]\n",
    "# shape(7,5)\n",
    "second = [\n",
    "    [0.01,0.0391,0.0682,0.0974,0.1265],\n",
    "    [0.1556,0.1847,0.2138,0.2429,0.2721],\n",
    "    [0.3012,0.3303,0.3594,0.3885,0.4176],\n",
    "    [0.4468,0.4759,0.505,0.5341,0.5632],\n",
    "    [0.5924,0.6215,0.6506,0.6797,0.7088],\n",
    "    [0.7379,0.7671,0.7962,0.8253,0.8544],\n",
    "    [0.8835,0.9126,0.9418,0.9709,1.0]\n",
    "]\n",
    "\n",
    "# The shape of the resulting array is always the first dimension of the left array and the second dimension of the right array\n",
    "# shape(3, 5)\n",
    "np.dot(first, second)\n",
    "\n",
    "# testing\n",
    "first = [\n",
    "    [1,4],\n",
    "    [2,5],\n",
    "    [3,6]\n",
    "]\n",
    "second = [\n",
    "    [2,5,7],\n",
    "    [3,3,3]\n",
    "]\n",
    "# operation to matrix multiply with numpy\n",
    "np.matmul(first,second)\n"
   ]
  },
  {
   "cell_type": "code",
   "execution_count": 9,
   "id": "6e2b6311-d8c6-4b67-8e79-ecb9d54bc975",
   "metadata": {},
   "outputs": [
    {
     "name": "stdout",
     "output_type": "stream",
     "text": [
      "[[  4.75  68.     9.39]\n",
      " [  3.85  56.     7.16]\n",
      " [  8.5  138.    18.78]]\n"
     ]
    }
   ],
   "source": [
    "# Row and Column Vectors\n",
    "# The matrix of weights needs to be transposed so that we can take the matrix product of the inputs and weights\n",
    "inputs = [\n",
    "    [1,2,3,4,5],\n",
    "    [1,1,2,3,5],\n",
    "    [2,4,6,8,10]\n",
    "]\n",
    "weights = [\n",
    "    [0.1,0.2,0.3,0.4,0.15],\n",
    "    [2,3,4,5,6],\n",
    "    [0.95,0.86,0.46,0.91,0.34]\n",
    "]\n",
    "biases = [1,-2,0]\n",
    "outputs = np.dot(inputs, np.array(weights).T) + biases\n",
    "print(outputs)"
   ]
  },
  {
   "cell_type": "code",
   "execution_count": null,
   "id": "7c282d51-a864-46af-8a34-78df53674c2f",
   "metadata": {},
   "outputs": [],
   "source": []
  }
 ],
 "metadata": {
  "kernelspec": {
   "display_name": "Python 3 (ipykernel)",
   "language": "python",
   "name": "python3"
  },
  "language_info": {
   "codemirror_mode": {
    "name": "ipython",
    "version": 3
   },
   "file_extension": ".py",
   "mimetype": "text/x-python",
   "name": "python",
   "nbconvert_exporter": "python",
   "pygments_lexer": "ipython3",
   "version": "3.12.5"
  }
 },
 "nbformat": 4,
 "nbformat_minor": 5
}
