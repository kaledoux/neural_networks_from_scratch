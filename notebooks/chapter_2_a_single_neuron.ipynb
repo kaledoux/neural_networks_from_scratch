{
 "cells": [
  {
   "cell_type": "code",
   "execution_count": 3,
   "id": "675f1f31-9912-46d0-97c5-0863cec6ca4a",
   "metadata": {},
   "outputs": [
    {
     "name": "stdout",
     "output_type": "stream",
     "text": [
      "2.3\n"
     ]
    }
   ],
   "source": [
    "# a single neuron with 3 inputs and related weights + bias\n",
    "inputs = [1,2,3]\n",
    "weights = [0.2,0.8,-0.5]\n",
    "bias = 2\n",
    "result = (inputs[0]*weights[0] + inputs[1]*weights[1] + inputs[2]*weights[2] + bias)\n",
    "print(result)"
   ]
  },
  {
   "cell_type": "code",
   "execution_count": 4,
   "id": "8a09f64b-b3eb-4249-9f6b-4dc2b9310dd6",
   "metadata": {},
   "outputs": [
    {
     "name": "stdout",
     "output_type": "stream",
     "text": [
      "4.8\n"
     ]
    }
   ],
   "source": [
    "# a single neuron with 4 inputs and related weights + bias\n",
    "inputs = [1,2,3,2.5]\n",
    "weights = [0.2,0.8,-0.5,1.0]\n",
    "# note that you need to have a weight for each input!\n",
    "bias = 2\n",
    "result = (inputs[0]*weights[0] + inputs[1]*weights[1] + inputs[2]*weights[2] + inputs[3]*weights[3] + bias)\n",
    "print(result)"
   ]
  },
  {
   "cell_type": "code",
   "execution_count": 5,
   "id": "066b4863-30de-4b54-893c-4177abdfb39e",
   "metadata": {},
   "outputs": [
    {
     "name": "stdout",
     "output_type": "stream",
     "text": [
      "[4.8, 1.21, 2.385]\n"
     ]
    }
   ],
   "source": [
    "# now we add two more neurons to our layer\n",
    "# they all take the same inputs, but the weights and bias varies (this is what makes the outputs vary)\n",
    "inputs = [1,2,3,2.5]\n",
    "\n",
    "weights1 = [0.2,0.8,-0.5,1.0]\n",
    "bias1 = 2\n",
    "weights2 = [0.5, -0.91, 0.26, -0.5]\n",
    "bias2 = 3\n",
    "weights3 = [-0.26, -0.27, 0.17, 0.87]\n",
    "bias3 = 0.5\n",
    "\n",
    "outputs = [\n",
    "    (inputs[0]*weights1[0] + inputs[1]*weights1[1] + inputs[2]*weights1[2] + inputs[3]*weights1[3] + bias1),\n",
    "    (inputs[0]*weights2[0] + inputs[1]*weights2[1] + inputs[2]*weights2[2] + inputs[3]*weights2[3] + bias2),\n",
    "    (inputs[0]*weights3[0] + inputs[1]*weights3[1] + inputs[2]*weights3[2] + inputs[3]*weights3[3] + bias3)\n",
    "]\n",
    "\n",
    "print(outputs)\n",
    "\n",
    "#Each neuron is “connected” to the same inputs. \n",
    "#The difference is in the separate weights and bias that each neuron applies to the input. \n",
    "#This is called a fully connected neural network — \n",
    "# every neuron in the current layer has connections to every neuron from the previous layer."
   ]
  },
  {
   "cell_type": "code",
   "execution_count": 28,
   "id": "fdff5c59-11b2-4efb-9b65-a700889a8c2a",
   "metadata": {},
   "outputs": [
    {
     "name": "stdout",
     "output_type": "stream",
     "text": [
      "[4.8, 1.21, 2.385]\n"
     ]
    }
   ],
   "source": [
    "# it gets impracticle to keep manually referencing \n",
    "# loop it:\n",
    "inputs = [1,2,3,2.5]\n",
    "weights = [\n",
    "    [0.2,0.8,-0.5,1.0],\n",
    "    [0.5, -0.91, 0.26, -0.5],\n",
    "    [-0.26, -0.27, 0.17, 0.87]   \n",
    "]\n",
    "biases = [2,3,0.5]\n",
    "\n",
    "# for each pair of weights and bias, iterate through the inputs array and multiply the n value in inputs by the n value in weights\n",
    "outputs = []\n",
    "\n",
    "for weight_array, bias in zip(weights, biases):\n",
    "    neuron_output = 0\n",
    "    for n_input, weight in zip(inputs, weight_array):\n",
    "        neuron_output += (n_input * weight)\n",
    "    neuron_output += bias        \n",
    "    outputs.append(neuron_output)\n",
    "\n",
    "print(outputs)"
   ]
  },
  {
   "cell_type": "code",
   "execution_count": null,
   "id": "98b59057-0b23-450a-b2e2-951a3583106e",
   "metadata": {},
   "outputs": [],
   "source": [
    "# Vectors, Tensors, and Arrays\n",
    "# A list of lists is homologous if each list along a dimension is identically long, \n",
    "# and this must be true for each dimension."
   ]
  }
 ],
 "metadata": {
  "kernelspec": {
   "display_name": "Python 3 (ipykernel)",
   "language": "python",
   "name": "python3"
  },
  "language_info": {
   "codemirror_mode": {
    "name": "ipython",
    "version": 3
   },
   "file_extension": ".py",
   "mimetype": "text/x-python",
   "name": "python",
   "nbconvert_exporter": "python",
   "pygments_lexer": "ipython3",
   "version": "3.12.5"
  }
 },
 "nbformat": 4,
 "nbformat_minor": 5
}
