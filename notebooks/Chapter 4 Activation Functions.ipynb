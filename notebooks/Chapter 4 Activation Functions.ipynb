{
 "cells": [
  {
   "cell_type": "code",
   "execution_count": 2,
   "id": "20bc080a",
   "metadata": {},
   "outputs": [],
   "source": [
    "import numpy as np\n",
    "import matplotlib.pyplot as plt\n",
    "from nnfs.datasets import spiral_data"
   ]
  },
  {
   "cell_type": "code",
   "execution_count": 16,
   "id": "50670991",
   "metadata": {},
   "outputs": [
    {
     "name": "stdout",
     "output_type": "stream",
     "text": [
      "[[ 0.00000000e+00  0.00000000e+00  0.00000000e+00]\n",
      " [ 2.29492021e-03  4.90500031e-04  5.25418651e-04]\n",
      " [ 3.22723240e-03  1.09349577e-03 -9.29102124e-04]\n",
      " [-1.90558519e-03  3.59558375e-05 -2.26749433e-03]\n",
      " [-8.73713873e-03 -2.59917682e-03  1.02285296e-03]\n",
      " [-1.04359003e-02 -3.17155977e-03  1.49863412e-03]\n",
      " [ 1.16580360e-02  2.21692639e-03  3.80431760e-03]\n",
      " [ 1.79770080e-02  4.24070787e-03  2.46973707e-03]\n",
      " [ 6.94509644e-03  3.08835910e-03 -5.03655394e-03]\n",
      " [-2.22100438e-02 -5.02802177e-03 -3.92401592e-03]\n",
      " [ 0.00000000e+00  0.00000000e+00  0.00000000e+00]\n",
      " [-2.62525104e-03 -6.42468555e-04 -2.64891644e-04]\n",
      " [-4.52643629e-03 -1.32278129e-03  4.31703037e-04]\n",
      " [ 6.89261894e-03  1.47440902e-03  1.57297615e-03]\n",
      " [ 8.67653262e-03  2.58983492e-03 -1.05164970e-03]\n",
      " [ 1.73847003e-03  1.31624313e-03 -3.50481524e-03]\n",
      " [-9.87512232e-03 -1.65630448e-03 -4.13793481e-03]\n",
      " [-1.76707644e-02 -4.08806258e-03 -2.75984427e-03]\n",
      " [-9.42213854e-03 -3.64232017e-03  4.57080524e-03]\n",
      " [ 2.33814477e-02  5.60568700e-03  2.84000764e-03]]\n",
      "[[0.00000000e+00 0.00000000e+00 0.00000000e+00]\n",
      " [2.29492021e-03 4.90500031e-04 5.25418651e-04]\n",
      " [3.22723240e-03 1.09349577e-03 0.00000000e+00]\n",
      " [0.00000000e+00 3.59558375e-05 0.00000000e+00]\n",
      " [0.00000000e+00 0.00000000e+00 1.02285296e-03]\n",
      " [0.00000000e+00 0.00000000e+00 1.49863412e-03]\n",
      " [1.16580360e-02 2.21692639e-03 3.80431760e-03]\n",
      " [1.79770080e-02 4.24070787e-03 2.46973707e-03]\n",
      " [6.94509644e-03 3.08835910e-03 0.00000000e+00]\n",
      " [0.00000000e+00 0.00000000e+00 0.00000000e+00]\n",
      " [0.00000000e+00 0.00000000e+00 0.00000000e+00]\n",
      " [0.00000000e+00 0.00000000e+00 0.00000000e+00]\n",
      " [0.00000000e+00 0.00000000e+00 4.31703037e-04]\n",
      " [6.89261894e-03 1.47440902e-03 1.57297615e-03]\n",
      " [8.67653262e-03 2.58983492e-03 0.00000000e+00]\n",
      " [1.73847003e-03 1.31624313e-03 0.00000000e+00]\n",
      " [0.00000000e+00 0.00000000e+00 0.00000000e+00]\n",
      " [0.00000000e+00 0.00000000e+00 0.00000000e+00]\n",
      " [0.00000000e+00 0.00000000e+00 4.57080524e-03]\n",
      " [2.33814477e-02 5.60568700e-03 2.84000764e-03]]\n"
     ]
    }
   ],
   "source": [
    "class DenseLayer:\n",
    "    def __init__(self, inputs, neurons):\n",
    "        self.weights = 0.01 * np.random.randn(inputs, neurons)\n",
    "        self.biases = np.zeros(neurons)\n",
    "        \n",
    "    def forward(self, inputs):\n",
    "        self.output = np.dot(inputs, self.weights)\n",
    "        \n",
    "\n",
    "class ReluActivation:\n",
    "    def forward(self, inputs):\n",
    "        self.output = np.maximum(0, inputs)\n",
    "        \n",
    "X,y = spiral_data(samples=10, classes=2)\n",
    "\n",
    "dense = DenseLayer(2,3)\n",
    "relu = ReluActivation()\n",
    "\n",
    "dense.forward(X)\n",
    "print(dense.output)\n",
    "\n",
    "relu.forward(dense.output)\n",
    "print(relu.output)"
   ]
  },
  {
   "cell_type": "code",
   "execution_count": null,
   "id": "a72c0038",
   "metadata": {},
   "outputs": [],
   "source": []
  }
 ],
 "metadata": {
  "kernelspec": {
   "display_name": "Python 3 (ipykernel)",
   "language": "python",
   "name": "python3"
  },
  "language_info": {
   "codemirror_mode": {
    "name": "ipython",
    "version": 3
   },
   "file_extension": ".py",
   "mimetype": "text/x-python",
   "name": "python",
   "nbconvert_exporter": "python",
   "pygments_lexer": "ipython3",
   "version": "3.7.9"
  }
 },
 "nbformat": 4,
 "nbformat_minor": 5
}
