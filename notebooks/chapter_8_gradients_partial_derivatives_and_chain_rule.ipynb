{
 "cells": [
  {
   "cell_type": "code",
   "execution_count": null,
   "id": "d754a2ca",
   "metadata": {},
   "outputs": [],
   "source": [
    "# Partial Derivative\n",
    "# The partial derivative measures how much impact a single input has on a function’s output\n",
    "# The method for calculating a partial derivative is the same as for derivatives explained in the previous\n",
    "# chapter; we simply have to repeat this process for each of the independent inputs\n",
    "\n",
    "# The partial derivative is a single equation, and the full multivariate function’s derivative consists\n",
    "# of a set of equations called the gradient. In other words, the gradient is a vector of the size of\n",
    "# inputs containing partial derivative solutions with respect to each of the inputs\n",
    "\n",
    "# partial derivative of a sum:\n",
    "# Calculating the partial derivative with respect to a given input means to calculate it like the regular\n",
    "# derivative of one input, just while treating other inputs as constants\n",
    "# So, when calculating the derivative of x, the y etc are treated as constants (which == 0), then when solving\n",
    "# for y, the x is treated as a constant etc etc\n",
    "\n",
    "# partial derivative of a product\n",
    "# with respect to x\n",
    "# (d/dx|nx*y) == y * (d/dx|nx)\n",
    "# whatever variable * the derivative of the variable being derived\n",
    "\n",
    "\n",
    "#the gradient is a vector composed of all of the\n",
    "# partial derivatives of a function, calculated with respect to each input variable.\n",
    "\n",
    "# We’ll be using derivatives of single-parameter functions and gradients of multivariate functions\n",
    "# to perform gradient descent using the chain rule, or, in other words, to perform the backward\n",
    "# pass, which is a part of the model training.\n",
    "\n",
    "# Summary\n",
    "# The partial derivative of the sum with respect to any input equals 1\n",
    "# The partial derivative of the multiplication operation with 2 inputs, with respect to any input,\n",
    "# equals the other input\n",
    "# The partial derivative of the max function of 2 variables with respect to any of them is 1 if this\n",
    "# variable is the biggest and 0 otherwise\n",
    "# The derivative of chained functions equals the product of the partial derivatives of the subsequent\n",
    "# functions\n"
   ]
  }
 ],
 "metadata": {
  "kernelspec": {
   "display_name": "Python 3 (ipykernel)",
   "language": "python",
   "name": "python3"
  },
  "language_info": {
   "codemirror_mode": {
    "name": "ipython",
    "version": 3
   },
   "file_extension": ".py",
   "mimetype": "text/x-python",
   "name": "python",
   "nbconvert_exporter": "python",
   "pygments_lexer": "ipython3",
   "version": "3.7.9"
  }
 },
 "nbformat": 4,
 "nbformat_minor": 5
}
