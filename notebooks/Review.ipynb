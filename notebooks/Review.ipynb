{
 "cells": [
  {
   "cell_type": "code",
   "execution_count": 9,
   "id": "4caefd15",
   "metadata": {},
   "outputs": [],
   "source": [
    "import numpy as np\n",
    "import nnfs"
   ]
  },
  {
   "cell_type": "code",
   "execution_count": 9,
   "id": "fa933005",
   "metadata": {},
   "outputs": [
    {
     "name": "stdout",
     "output_type": "stream",
     "text": [
      "[[1, 1, 1], [2, 2, 2], [0.5, 0.5, 0.5], [0.75, 0.75, 0.75]]\n",
      "[[ 1.2  2.  10.   5. ]\n",
      " [ 1.3  3.  12.   5. ]\n",
      " [ 1.5  4.  15.   5. ]]\n",
      "[[  5.    14.    47.   115.  ]\n",
      " [  9.    23.    84.   130.  ]\n",
      " [  3.     9.5   28.5  107.5 ]\n",
      " [  4.    11.75  37.75 111.25]]\n"
     ]
    }
   ],
   "source": [
    "inputs = [1,2,3]\n",
    "inputs2 = [[1,1,1], [2,2,2], [0.5, 0.5, 0.5], [0.75, 0.75, 0.75]]\n",
    "weights = [[1,1,1], [2,2,2], [0.5, 0.5, 0.5]]\n",
    "biases = [1, 5, 10, 100]\n",
    "outputs = []\n",
    "\n",
    "for neuron_weights, neuron_bias in zip(weights, biases):\n",
    "    neuron_output = 0\n",
    "    for weight, input_n in zip(neuron_weights, inputs):\n",
    "        neuron_output += weight * input_n\n",
    "    neuron_output += neuron_bias\n",
    "    outputs.append(neuron_output)\n",
    "        \n",
    "# print(outputs)\n",
    "\n",
    "# print(np.dot(inputs, weights))\n",
    "# print(np.dot(inputs, biases))\n",
    "# print(np.dot(inputs, weights[0]))\n",
    "# print(np.dot(weights, inputs) + biases)\n",
    "# print(np.dot(weights, R.inputs2))\n",
    "\n",
    "weights_matrix = [[1.2, 1.3, 1.5], [2,3,4], [10, 12, 15], [5,5,5]]\n",
    "outputs = np.dot(inputs2, np.array(weights_matrix).T) + biases\n",
    "print(inputs2)\n",
    "print(np.array(weights_matrix).T)\n",
    "print(outputs)"
   ]
  },
  {
   "cell_type": "code",
   "execution_count": 7,
   "id": "9a8dd814",
   "metadata": {},
   "outputs": [
    {
     "name": "stdout",
     "output_type": "stream",
     "text": [
      "[17.35 27.7  10.6 ]\n",
      "[161.2    56.65  558.5   108.645]\n"
     ]
    }
   ],
   "source": [
    "inputs = [1,2,3,4]\n",
    "weights = [[1.1,1.5,1.75,2],[2,2.5,2.9,3],[0.1,0.2,0.5,0.9]]\n",
    "biases = [0,0,5]\n",
    "weights2 = [[2,3,4],[1,1,1],[10,10,10],[2.5,1.1,3]]\n",
    "biases2 = [1,1,2,3]\n",
    "\n",
    "layer_1_outputs = np.dot(inputs, np.array(weights).T) + biases\n",
    "layer_2_outputs = np.dot(layer_1_outputs, np.array(weights2).T) + biases2\n",
    "\n",
    "print(layer_1_outputs)\n",
    "print(layer_2_outputs)"
   ]
  },
  {
   "cell_type": "code",
   "execution_count": 11,
   "id": "2ea07a79",
   "metadata": {},
   "outputs": [
    {
     "name": "stdout",
     "output_type": "stream",
     "text": [
      "20\n"
     ]
    },
    {
     "ename": "NameError",
     "evalue": "name 'respr' is not defined",
     "output_type": "error",
     "traceback": [
      "\u001b[0;31m---------------------------------------------------------------------------\u001b[0m",
      "\u001b[0;31mNameError\u001b[0m                                 Traceback (most recent call last)",
      "\u001b[0;32m/var/folders/1p/4jbcjwn17g5981d8n95ljmw00000gn/T/ipykernel_50061/283985325.py\u001b[0m in \u001b[0;36m<module>\u001b[0;34m\u001b[0m\n\u001b[1;32m      2\u001b[0m \u001b[0mb\u001b[0m \u001b[0;34m=\u001b[0m \u001b[0;34m[\u001b[0m\u001b[0;36m2\u001b[0m\u001b[0;34m,\u001b[0m\u001b[0;36m3\u001b[0m\u001b[0;34m,\u001b[0m\u001b[0;36m4\u001b[0m\u001b[0;34m]\u001b[0m\u001b[0;34m\u001b[0m\u001b[0;34m\u001b[0m\u001b[0m\n\u001b[1;32m      3\u001b[0m \u001b[0mprint\u001b[0m\u001b[0;34m(\u001b[0m\u001b[0mnp\u001b[0m\u001b[0;34m.\u001b[0m\u001b[0mdot\u001b[0m\u001b[0;34m(\u001b[0m\u001b[0ma\u001b[0m\u001b[0;34m,\u001b[0m \u001b[0mb\u001b[0m\u001b[0;34m)\u001b[0m\u001b[0;34m)\u001b[0m\u001b[0;34m\u001b[0m\u001b[0;34m\u001b[0m\u001b[0m\n\u001b[0;32m----> 4\u001b[0;31m \u001b[0mprint\u001b[0m\u001b[0;34m(\u001b[0m\u001b[0mrespr\u001b[0m\u001b[0;34m(\u001b[0m\u001b[0mnp\u001b[0m\u001b[0;34m.\u001b[0m\u001b[0mdot\u001b[0m\u001b[0;34m(\u001b[0m\u001b[0ma\u001b[0m\u001b[0;34m,\u001b[0m \u001b[0mnp\u001b[0m\u001b[0;34m.\u001b[0m\u001b[0marray\u001b[0m\u001b[0;34m(\u001b[0m\u001b[0mb\u001b[0m\u001b[0;34m)\u001b[0m\u001b[0;34m.\u001b[0m\u001b[0mT\u001b[0m\u001b[0;34m)\u001b[0m\u001b[0;34m)\u001b[0m\u001b[0;34m)\u001b[0m\u001b[0;34m\u001b[0m\u001b[0;34m\u001b[0m\u001b[0m\n\u001b[0m",
      "\u001b[0;31mNameError\u001b[0m: name 'respr' is not defined"
     ]
    }
   ],
   "source": [
    "a = [1,2,3]\n",
    "b = [2,3,4]\n",
    "print(np.dot(a, b))\n",
    "print(respr(np.dot(a, np.array(b).T)))"
   ]
  },
  {
   "cell_type": "code",
   "execution_count": null,
   "id": "ea235149",
   "metadata": {},
   "outputs": [],
   "source": []
  }
 ],
 "metadata": {
  "kernelspec": {
   "display_name": "Python 3 (ipykernel)",
   "language": "python",
   "name": "python3"
  },
  "language_info": {
   "codemirror_mode": {
    "name": "ipython",
    "version": 3
   },
   "file_extension": ".py",
   "mimetype": "text/x-python",
   "name": "python",
   "nbconvert_exporter": "python",
   "pygments_lexer": "ipython3",
   "version": "3.7.9"
  }
 },
 "nbformat": 4,
 "nbformat_minor": 5
}
