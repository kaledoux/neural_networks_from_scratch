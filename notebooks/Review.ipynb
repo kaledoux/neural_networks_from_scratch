{
 "cells": [
  {
   "cell_type": "code",
   "execution_count": 6,
   "id": "fa933005",
   "metadata": {},
   "outputs": [
    {
     "name": "stdout",
     "output_type": "stream",
     "text": [
      "[7, 17, 13.0]\n"
     ]
    }
   ],
   "source": [
    "inputs = [1,2,3]\n",
    "weights = [[1,1,1], [2,2,2], [0.5, 0.5, 0.5]]\n",
    "biases = [1, 5, 10]\n",
    "outputs = []\n",
    "\n",
    "for neuron_weights, neuron_bias in zip(weights, biases):\n",
    "    neuron_output = 0\n",
    "    for weight, input_n in zip(neuron_weights, inputs):\n",
    "        neuron_output += weight * input_n\n",
    "    neuron_output += neuron_bias\n",
    "    outputs.append(neuron_output)\n",
    "        \n",
    "print(outputs)\n"
   ]
  },
  {
   "cell_type": "code",
   "execution_count": null,
   "id": "4caefd15",
   "metadata": {},
   "outputs": [],
   "source": []
  }
 ],
 "metadata": {
  "kernelspec": {
   "display_name": "Python 3 (ipykernel)",
   "language": "python",
   "name": "python3"
  },
  "language_info": {
   "codemirror_mode": {
    "name": "ipython",
    "version": 3
   },
   "file_extension": ".py",
   "mimetype": "text/x-python",
   "name": "python",
   "nbconvert_exporter": "python",
   "pygments_lexer": "ipython3",
   "version": "3.7.9"
  }
 },
 "nbformat": 4,
 "nbformat_minor": 5
}
