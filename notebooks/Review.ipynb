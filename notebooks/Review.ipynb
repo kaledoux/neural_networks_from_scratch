{
 "cells": [
  {
   "cell_type": "code",
   "execution_count": 2,
   "id": "4caefd15",
   "metadata": {},
   "outputs": [],
   "source": [
    "import numpy as np"
   ]
  },
  {
   "cell_type": "code",
   "execution_count": 9,
   "id": "fa933005",
   "metadata": {},
   "outputs": [
    {
     "name": "stdout",
     "output_type": "stream",
     "text": [
      "[[1, 1, 1], [2, 2, 2], [0.5, 0.5, 0.5], [0.75, 0.75, 0.75]]\n",
      "[[ 1.2  2.  10.   5. ]\n",
      " [ 1.3  3.  12.   5. ]\n",
      " [ 1.5  4.  15.   5. ]]\n",
      "[[  5.    14.    47.   115.  ]\n",
      " [  9.    23.    84.   130.  ]\n",
      " [  3.     9.5   28.5  107.5 ]\n",
      " [  4.    11.75  37.75 111.25]]\n"
     ]
    }
   ],
   "source": [
    "inputs = [1,2,3]\n",
    "inputs2 = [[1,1,1], [2,2,2], [0.5, 0.5, 0.5], [0.75, 0.75, 0.75]]\n",
    "weights = [[1,1,1], [2,2,2], [0.5, 0.5, 0.5]]\n",
    "biases = [1, 5, 10, 100]\n",
    "outputs = []\n",
    "\n",
    "for neuron_weights, neuron_bias in zip(weights, biases):\n",
    "    neuron_output = 0\n",
    "    for weight, input_n in zip(neuron_weights, inputs):\n",
    "        neuron_output += weight * input_n\n",
    "    neuron_output += neuron_bias\n",
    "    outputs.append(neuron_output)\n",
    "        \n",
    "# print(outputs)\n",
    "\n",
    "# print(np.dot(inputs, weights))\n",
    "# print(np.dot(inputs, biases))\n",
    "# print(np.dot(inputs, weights[0]))\n",
    "# print(np.dot(weights, inputs) + biases)\n",
    "# print(np.dot(weights, R.inputs2))\n",
    "\n",
    "weights_matrix = [[1.2, 1.3, 1.5], [2,3,4], [10, 12, 15], [5,5,5]]\n",
    "outputs = np.dot(inputs2, np.array(weights_matrix).T) + biases\n",
    "print(inputs2)\n",
    "print(np.array(weights_matrix).T)\n",
    "print(outputs)"
   ]
  },
  {
   "cell_type": "code",
   "execution_count": null,
   "id": "9a8dd814",
   "metadata": {},
   "outputs": [],
   "source": []
  }
 ],
 "metadata": {
  "kernelspec": {
   "display_name": "Python 3 (ipykernel)",
   "language": "python",
   "name": "python3"
  },
  "language_info": {
   "codemirror_mode": {
    "name": "ipython",
    "version": 3
   },
   "file_extension": ".py",
   "mimetype": "text/x-python",
   "name": "python",
   "nbconvert_exporter": "python",
   "pygments_lexer": "ipython3",
   "version": "3.7.9"
  }
 },
 "nbformat": 4,
 "nbformat_minor": 5
}
