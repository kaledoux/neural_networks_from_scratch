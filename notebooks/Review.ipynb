{
 "cells": [
  {
   "cell_type": "code",
   "execution_count": 1,
   "id": "4caefd15",
   "metadata": {},
   "outputs": [],
   "source": [
    "import numpy as np\n",
    "import nnfs"
   ]
  },
  {
   "cell_type": "code",
   "execution_count": 3,
   "id": "fa933005",
   "metadata": {},
   "outputs": [
    {
     "name": "stdout",
     "output_type": "stream",
     "text": [
      "[7, 17, 13.0]\n",
      "[6.5 6.5 6.5]\n",
      "41\n",
      "6\n",
      "[ 7. 17. 13.]\n"
     ]
    }
   ],
   "source": [
    "inputs = [1,2,3]\n",
    "inputs2 = [[1,1,1], [2,2,2], [0.5, 0.5, 0.5], [0.75, 0.75, 0.75]]\n",
    "weights = [[1,1,1], [2,2,2], [0.5, 0.5, 0.5]]\n",
    "biases = [1, 5, 10, 100]\n",
    "outputs = []\n",
    "\n",
    "for neuron_weights, neuron_bias in zip(weights, biases):\n",
    "    neuron_output = 0\n",
    "    for weight, input_n in zip(neuron_weights, inputs):\n",
    "        neuron_output += weight * input_n\n",
    "    neuron_output += neuron_bias\n",
    "    outputs.append(neuron_output)\n",
    "        \n",
    "# print(outputs)\n",
    "\n",
    "print(np.dot(inputs, weights))\n",
    "print(np.dot(inputs, biases))\n",
    "print(np.dot(inputs, weights[0]))\n",
    "print(np.dot(weights, inputs) + biases)\n",
    "# print(np.dot(weights, R.inputs2))"
   ]
  },
  {
   "cell_type": "code",
   "execution_count": 7,
   "id": "9a8dd814",
   "metadata": {},
   "outputs": [
    {
     "name": "stdout",
     "output_type": "stream",
     "text": [
      "[17.35 27.7  10.6 ]\n",
      "[161.2    56.65  558.5   108.645]\n"
     ]
    }
   ],
   "source": [
    "inputs = [1,2,3,4]\n",
    "weights = [[1.1,1.5,1.75,2],[2,2.5,2.9,3],[0.1,0.2,0.5,0.9]]\n",
    "biases = [0,0,5]\n",
    "weights2 = [[2,3,4],[1,1,1],[10,10,10],[2.5,1.1,3]]\n",
    "biases2 = [1,1,2,3]\n",
    "\n",
    "layer_1_outputs = np.dot(inputs, np.array(weights).T) + biases\n",
    "layer_2_outputs = np.dot(layer_1_outputs, np.array(weights2).T) + biases2\n",
    "\n",
    "print(layer_1_outputs)\n",
    "print(layer_2_outputs)"
   ]
  },
  {
   "cell_type": "code",
   "execution_count": 13,
   "id": "2ea07a79",
   "metadata": {},
   "outputs": [
    {
     "name": "stdout",
     "output_type": "stream",
     "text": [
      "20\n"
     ]
    },
    {
     "data": {
      "text/plain": [
       "20"
      ]
     },
     "execution_count": 13,
     "metadata": {},
     "output_type": "execute_result"
    }
   ],
   "source": [
    "a = [1,2,3]\n",
    "b = [2,3,4]\n",
    "print(np.dot(a, b))\n",
    "np.dot(a, np.array(b).T)"
   ]
  },
  {
   "cell_type": "code",
   "execution_count": null,
   "id": "ea235149",
   "metadata": {},
   "outputs": [],
   "source": []
  }
 ],
 "metadata": {
  "kernelspec": {
   "display_name": "Python 3 (ipykernel)",
   "language": "python",
   "name": "python3"
  },
  "language_info": {
   "codemirror_mode": {
    "name": "ipython",
    "version": 3
   },
   "file_extension": ".py",
   "mimetype": "text/x-python",
   "name": "python",
   "nbconvert_exporter": "python",
   "pygments_lexer": "ipython3",
   "version": "3.7.9"
  }
 },
 "nbformat": 4,
 "nbformat_minor": 5
}
