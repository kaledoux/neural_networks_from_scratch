{
 "cells": [
  {
   "cell_type": "code",
   "execution_count": 1,
   "id": "4caefd15",
   "metadata": {},
   "outputs": [],
   "source": [
    "import numpy as np"
   ]
  },
  {
   "cell_type": "code",
   "execution_count": 3,
   "id": "fa933005",
   "metadata": {},
   "outputs": [
    {
     "name": "stdout",
     "output_type": "stream",
     "text": [
      "[7, 17, 13.0]\n",
      "[6.5 6.5 6.5]\n",
      "41\n",
      "6\n",
      "[ 7. 17. 13.]\n"
     ]
    }
   ],
   "source": [
    "inputs = [1,2,3]\n",
    "inputs2 = [[1,1,1], [2,2,2], [0.5, 0.5, 0.5]]\n",
    "weights = [[1,1,1], [2,2,2], [0.5, 0.5, 0.5]]\n",
    "biases = [1, 5, 10]\n",
    "outputs = []\n",
    "\n",
    "for neuron_weights, neuron_bias in zip(weights, biases):\n",
    "    neuron_output = 0\n",
    "    for weight, input_n in zip(neuron_weights, inputs):\n",
    "        neuron_output += weight * input_n\n",
    "    neuron_output += neuron_bias\n",
    "    outputs.append(neuron_output)\n",
    "        \n",
    "print(outputs)\n",
    "\n",
    "print(np.dot(inputs, weights))\n",
    "print(np.dot(inputs, biases))\n",
    "print(np.dot(inputs, weights[0]))\n",
    "print(np.dot(weights, inputs) + biases)\n",
    "# print(np.dot(weights, R.inputs2))"
   ]
  },
  {
   "cell_type": "code",
   "execution_count": null,
   "id": "9a8dd814",
   "metadata": {},
   "outputs": [],
   "source": []
  }
 ],
 "metadata": {
  "kernelspec": {
   "display_name": "Python 3 (ipykernel)",
   "language": "python",
   "name": "python3"
  },
  "language_info": {
   "codemirror_mode": {
    "name": "ipython",
    "version": 3
   },
   "file_extension": ".py",
   "mimetype": "text/x-python",
   "name": "python",
   "nbconvert_exporter": "python",
   "pygments_lexer": "ipython3",
   "version": "3.7.9"
  }
 },
 "nbformat": 4,
 "nbformat_minor": 5
}
